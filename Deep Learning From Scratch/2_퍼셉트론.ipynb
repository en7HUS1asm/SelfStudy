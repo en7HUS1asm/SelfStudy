{
  "nbformat": 4,
  "nbformat_minor": 0,
  "metadata": {
    "colab": {
      "provenance": [],
      "authorship_tag": "ABX9TyPmzuTIiOlAoHY9E4NK8KJd",
      "include_colab_link": true
    },
    "kernelspec": {
      "name": "python3",
      "display_name": "Python 3"
    },
    "language_info": {
      "name": "python"
    }
  },
  "cells": [
    {
      "cell_type": "markdown",
      "metadata": {
        "id": "view-in-github",
        "colab_type": "text"
      },
      "source": [
        "<a href=\"https://colab.research.google.com/github/en7HUS1asm/SelfStudy/blob/main/2_%ED%8D%BC%EC%85%89%ED%8A%B8%EB%A1%A0.ipynb\" target=\"_parent\"><img src=\"https://colab.research.google.com/assets/colab-badge.svg\" alt=\"Open In Colab\"/></a>"
      ]
    },
    {
      "cell_type": "markdown",
      "source": [
        "2.2 논리회로"
      ],
      "metadata": {
        "id": "u39OrAfhm5Xg"
      }
    },
    {
      "cell_type": "code",
      "source": [
        "import numpy as np"
      ],
      "metadata": {
        "id": "jJHqls8Xm87a"
      },
      "execution_count": 1,
      "outputs": []
    },
    {
      "cell_type": "code",
      "source": [
        "def AND(x1, x2):\n",
        "  w1, w2, theta = 0.5, 0.5, 0.7\n",
        "  tmp = x1*w1 + x2*w2\n",
        "  if tmp <= theta:\n",
        "    return 0\n",
        "  elif tmp > theta:\n",
        "    return 1"
      ],
      "metadata": {
        "id": "w2zGZA9GWCDY"
      },
      "execution_count": 9,
      "outputs": []
    },
    {
      "cell_type": "code",
      "source": [
        "AND(0,0)"
      ],
      "metadata": {
        "colab": {
          "base_uri": "https://localhost:8080/"
        },
        "id": "G7Mac6PJm8-I",
        "outputId": "5f79024c-650e-44f4-e152-00284a72dad3"
      },
      "execution_count": 16,
      "outputs": [
        {
          "output_type": "execute_result",
          "data": {
            "text/plain": [
              "0"
            ]
          },
          "metadata": {},
          "execution_count": 16
        }
      ]
    },
    {
      "cell_type": "code",
      "source": [
        "AND(1,0)"
      ],
      "metadata": {
        "colab": {
          "base_uri": "https://localhost:8080/"
        },
        "id": "lxzBnfxim9Aq",
        "outputId": "4f4a812b-9395-4da0-ef24-ee2c22e80089"
      },
      "execution_count": 17,
      "outputs": [
        {
          "output_type": "execute_result",
          "data": {
            "text/plain": [
              "0"
            ]
          },
          "metadata": {},
          "execution_count": 17
        }
      ]
    },
    {
      "cell_type": "code",
      "source": [
        "AND(0,1)"
      ],
      "metadata": {
        "colab": {
          "base_uri": "https://localhost:8080/"
        },
        "id": "jB1_lBeDpPzw",
        "outputId": "45124472-d208-448e-c0de-2c44d025e93a"
      },
      "execution_count": 18,
      "outputs": [
        {
          "output_type": "execute_result",
          "data": {
            "text/plain": [
              "0"
            ]
          },
          "metadata": {},
          "execution_count": 18
        }
      ]
    },
    {
      "cell_type": "code",
      "source": [
        "AND(1,1)"
      ],
      "metadata": {
        "colab": {
          "base_uri": "https://localhost:8080/"
        },
        "id": "lRQiPA1KpRzm",
        "outputId": "51fbb298-1f94-452a-b630-0ae40778c125"
      },
      "execution_count": 19,
      "outputs": [
        {
          "output_type": "execute_result",
          "data": {
            "text/plain": [
              "1"
            ]
          },
          "metadata": {},
          "execution_count": 19
        }
      ]
    },
    {
      "cell_type": "code",
      "source": [
        "def NAND(x1, x2):\n",
        "  x = np.array([x1,x2])\n",
        "  w = np.array([-0.5, -0.5])\n",
        "  b = 0.7\n",
        "  tmp = np.sum(w*x) + b\n",
        "  if tmp <= 0:\n",
        "    return 0\n",
        "  else:\n",
        "    return 1"
      ],
      "metadata": {
        "id": "yxWRzE4gpSqP"
      },
      "execution_count": 13,
      "outputs": []
    },
    {
      "cell_type": "code",
      "source": [
        "def OR(x1, x2):\n",
        "  x = np.array([x1, x2])\n",
        "  w = np.array([0.5, 0.5])\n",
        "  b = -0.2\n",
        "  tmp = np.sum(w*x)+b\n",
        "  if tmp <= 0:\n",
        "    return 0\n",
        "  else:\n",
        "    return 1"
      ],
      "metadata": {
        "id": "MU0sA8c3nkDO"
      },
      "execution_count": 3,
      "outputs": []
    },
    {
      "cell_type": "code",
      "source": [
        "def XOR(x1, x2):\n",
        "  s1 = NAND(x1, x2)\n",
        "  s2 = OR(x1, x2)\n",
        "  y = AND(s1, s2)\n",
        "  return y"
      ],
      "metadata": {
        "id": "t0FIVo2Tn7_i"
      },
      "execution_count": 7,
      "outputs": []
    },
    {
      "cell_type": "code",
      "source": [
        "XOR(0, 0)\n",
        "XOR(0, 1)\n",
        "XOR(1, 0)\n",
        "XOR(1, 1)"
      ],
      "metadata": {
        "colab": {
          "base_uri": "https://localhost:8080/"
        },
        "id": "mzHh3-NhoQDY",
        "outputId": "a66f53c0-0940-4008-f23b-d28f293878a2"
      },
      "execution_count": 15,
      "outputs": [
        {
          "output_type": "execute_result",
          "data": {
            "text/plain": [
              "0"
            ]
          },
          "metadata": {},
          "execution_count": 15
        }
      ]
    }
  ]
}